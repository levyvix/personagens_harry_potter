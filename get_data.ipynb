{
 "cells": [
  {
   "cell_type": "code",
   "execution_count": 1,
   "metadata": {},
   "outputs": [],
   "source": [
    "import pandas as pd\n",
    "import requests\n",
    "from bs4 import BeautifulSoup\n",
    "from tqdm.notebook import tqdm\n"
   ]
  },
  {
   "cell_type": "code",
   "execution_count": 11,
   "metadata": {},
   "outputs": [],
   "source": [
    "\n",
    "\n",
    "def get_character_info(url):\n",
    "    response = requests.get(url)\n",
    "\n",
    "    soup = BeautifulSoup(response.text, 'html.parser')\n",
    "\n",
    "    nome = soup.select(\n",
    "        'h2.pi-item.pi-item-spacing.pi-title.pi-secondary-background')[0].text\n",
    "    columns = soup.select('h3.pi-data-label.pi-secondary-font')\n",
    "    # columns = list(filter(lambda x: x.text in ['Nome', 'Nascimento', 'Estado sanguíneo', 'Estado civil', 'Nacionalidade', 'Outros nomes', 'Título(s)', 'Assinatura', 'Espécie', 'Gênero', 'Altura', 'Peso', 'Cor do cabelo', 'Cor dos olhos', 'Cor da pele', 'Membros da família', 'Romances', 'Bicho-papão', 'Varinha', 'Patrono', 'Ocupação', 'Casa', 'Lealdade'], columns)\n",
    "    infos=[]\n",
    "    for el in soup.select('div.pi-data-value.pi-font'):\n",
    "\n",
    "        # if its a list then put a comma between each element\n",
    "        if len(el.select('li')) > 0:\n",
    "            infos.append(', '.join([li.text for li in el.select('li')]))\n",
    "        else:\n",
    "            infos.append(el.text)\n",
    "\n",
    "    result = pd.DataFrame([infos], columns=[el.text for el in columns])\n",
    "    # include name\n",
    "    result = result.assign(Nome=nome)\n",
    "    \n",
    "    return result\n"
   ]
  },
  {
   "cell_type": "code",
   "execution_count": 12,
   "metadata": {},
   "outputs": [],
   "source": [
    "sirius = get_character_info(\n",
    "    'https://harrypotter.fandom.com/pt-br/wiki/Sirius_Black')\n",
    "\n",
    "hermione = get_character_info(\n",
    "    'https://harrypotter.fandom.com/pt-br/wiki/Hermione_Granger')\n"
   ]
  },
  {
   "cell_type": "code",
   "execution_count": 16,
   "metadata": {},
   "outputs": [
    {
     "data": {
      "text/html": [
       "<div>\n",
       "<style scoped>\n",
       "    .dataframe tbody tr th:only-of-type {\n",
       "        vertical-align: middle;\n",
       "    }\n",
       "\n",
       "    .dataframe tbody tr th {\n",
       "        vertical-align: top;\n",
       "    }\n",
       "\n",
       "    .dataframe thead th {\n",
       "        text-align: right;\n",
       "    }\n",
       "</style>\n",
       "<table border=\"1\" class=\"dataframe\">\n",
       "  <thead>\n",
       "    <tr style=\"text-align: right;\">\n",
       "      <th></th>\n",
       "      <th>Nascimento</th>\n",
       "      <th>Morte</th>\n",
       "      <th>Estado sanguíneo</th>\n",
       "      <th>Estado civil</th>\n",
       "      <th>Nacionalidade</th>\n",
       "      <th>Outros nomes</th>\n",
       "      <th>Assinatura</th>\n",
       "      <th>Espécie</th>\n",
       "      <th>Gênero</th>\n",
       "      <th>Altura</th>\n",
       "      <th>...</th>\n",
       "      <th>Bicho-papão</th>\n",
       "      <th>Varinha</th>\n",
       "      <th>Patrono</th>\n",
       "      <th>Casa</th>\n",
       "      <th>Lealdade</th>\n",
       "      <th>Nome</th>\n",
       "      <th>Título(s)</th>\n",
       "      <th>Peso</th>\n",
       "      <th>Romances</th>\n",
       "      <th>Ocupação</th>\n",
       "    </tr>\n",
       "  </thead>\n",
       "  <tbody>\n",
       "    <tr>\n",
       "      <th>0</th>\n",
       "      <td>3 de novembro[1] de 1959[2]Islington, Londres,...</td>\n",
       "      <td>18 de junho de 1996[4] (36 anos), Câmara da Mo...</td>\n",
       "      <td>Sangue puro</td>\n",
       "      <td>Solteiro</td>\n",
       "      <td>Inglês</td>\n",
       "      <td>Almofadinhas (pelos Marotos e pelo trio)[6], S...</td>\n",
       "      <td></td>\n",
       "      <td>Humana[9]</td>\n",
       "      <td>Masculino[9]</td>\n",
       "      <td>1,75[3]</td>\n",
       "      <td>...</td>\n",
       "      <td>Lorde Voldemort[13]</td>\n",
       "      <td>Comprimento, madeira e núcleo desconhecidos[9]</td>\n",
       "      <td>Cão (possivelmente) [14]</td>\n",
       "      <td>Grifinória</td>\n",
       "      <td>Casa dos Black (anteriormente; deserdado), Esc...</td>\n",
       "      <td>Sirius Black III</td>\n",
       "      <td>NaN</td>\n",
       "      <td>NaN</td>\n",
       "      <td>NaN</td>\n",
       "      <td>NaN</td>\n",
       "    </tr>\n",
       "    <tr>\n",
       "      <th>0</th>\n",
       "      <td>19 de setembro de 1979[1], Inglaterra[2], Grã-...</td>\n",
       "      <td>NaN</td>\n",
       "      <td>Nascida trouxa[3]</td>\n",
       "      <td>Casada[4][5]</td>\n",
       "      <td>Inglesa</td>\n",
       "      <td>Hermy (por Grope)[6][7][8], Srta. Perfeição (p...</td>\n",
       "      <td></td>\n",
       "      <td>Humana[17]</td>\n",
       "      <td>Feminino[17]</td>\n",
       "      <td>1,65cm[2]</td>\n",
       "      <td>...</td>\n",
       "      <td>Falhar [23]</td>\n",
       "      <td>Videira, fibra de coração de dragão e vinte e ...</td>\n",
       "      <td>Lontra[24][25]</td>\n",
       "      <td>Grifinória[27]</td>\n",
       "      <td>Família Granger, Família Weasley, Família Pott...</td>\n",
       "      <td>Hermione Jean Granger</td>\n",
       "      <td>Monitora[15], Vice-chefe do Departamento de Ex...</td>\n",
       "      <td>53kg[2]</td>\n",
       "      <td>Vítor Krum (anteriormente), Córmaco McLaggen (...</td>\n",
       "      <td>Funcionária do Departamento para Regulamentaçã...</td>\n",
       "    </tr>\n",
       "  </tbody>\n",
       "</table>\n",
       "<p>2 rows × 25 columns</p>\n",
       "</div>"
      ],
      "text/plain": [
       "                                          Nascimento   \n",
       "0  3 de novembro[1] de 1959[2]Islington, Londres,...  \\\n",
       "0  19 de setembro de 1979[1], Inglaterra[2], Grã-...   \n",
       "\n",
       "                                               Morte   Estado sanguíneo   \n",
       "0  18 de junho de 1996[4] (36 anos), Câmara da Mo...        Sangue puro  \\\n",
       "0                                                NaN  Nascida trouxa[3]   \n",
       "\n",
       "   Estado civil Nacionalidade   \n",
       "0      Solteiro        Inglês  \\\n",
       "0  Casada[4][5]       Inglesa   \n",
       "\n",
       "                                        Outros nomes Assinatura     Espécie   \n",
       "0  Almofadinhas (pelos Marotos e pelo trio)[6], S...              Humana[9]  \\\n",
       "0  Hermy (por Grope)[6][7][8], Srta. Perfeição (p...             Humana[17]   \n",
       "\n",
       "         Gênero     Altura  ...          Bicho-papão   \n",
       "0  Masculino[9]    1,75[3]  ...  Lorde Voldemort[13]  \\\n",
       "0  Feminino[17]  1,65cm[2]  ...          Falhar [23]   \n",
       "\n",
       "                                             Varinha   \n",
       "0     Comprimento, madeira e núcleo desconhecidos[9]  \\\n",
       "0  Videira, fibra de coração de dragão e vinte e ...   \n",
       "\n",
       "                    Patrono             Casa   \n",
       "0  Cão (possivelmente) [14]       Grifinória  \\\n",
       "0            Lontra[24][25]   Grifinória[27]   \n",
       "\n",
       "                                            Lealdade                   Nome   \n",
       "0  Casa dos Black (anteriormente; deserdado), Esc...       Sirius Black III  \\\n",
       "0  Família Granger, Família Weasley, Família Pott...  Hermione Jean Granger   \n",
       "\n",
       "                                           Título(s)     Peso   \n",
       "0                                                NaN      NaN  \\\n",
       "0  Monitora[15], Vice-chefe do Departamento de Ex...  53kg[2]   \n",
       "\n",
       "                                            Romances   \n",
       "0                                                NaN  \\\n",
       "0  Vítor Krum (anteriormente), Córmaco McLaggen (...   \n",
       "\n",
       "                                            Ocupação  \n",
       "0                                                NaN  \n",
       "0  Funcionária do Departamento para Regulamentaçã...  \n",
       "\n",
       "[2 rows x 25 columns]"
      ]
     },
     "execution_count": 16,
     "metadata": {},
     "output_type": "execute_result"
    }
   ],
   "source": [
    "pd.concat([sirius, hermione])"
   ]
  },
  {
   "cell_type": "code",
   "execution_count": 10,
   "metadata": {},
   "outputs": [
    {
     "data": {
      "application/vnd.jupyter.widget-view+json": {
       "model_id": "4ed7b99027614ad7a70d8f467c4d8494",
       "version_major": 2,
       "version_minor": 0
      },
      "text/plain": [
       "  0%|          | 0/254 [00:00<?, ?it/s]"
      ]
     },
     "metadata": {},
     "output_type": "display_data"
    }
   ],
   "source": [
    "url_livro = 'https://harrypotter.fandom.com/pt-br/wiki/Harry_Potter_e_a_Pedra_Filosofal'\n",
    "url_personagem_base = 'https://harrypotter.fandom.com'\n",
    "\n",
    "\n",
    "def have_banner(href):\n",
    "\n",
    "    try:\n",
    "        response = requests.get(url_personagem_base + href)\n",
    "    except:\n",
    "        return False\n",
    "\n",
    "    soup = BeautifulSoup(response.text, 'html.parser')\n",
    "\n",
    "    columns = soup.select('h3.pi-data-label.pi-secondary-font')\n",
    "    if 'Nascimento' in [c.text for c in columns]:\n",
    "        return True\n",
    "    else:\n",
    "        return False\n",
    "\n",
    "\n",
    "def have_informacoes_bibliograficas(href):\n",
    "    try:\n",
    "        response = requests.get(url_personagem_base + href)\n",
    "    except:\n",
    "        return False\n",
    "\n",
    "    soup = BeautifulSoup(response.text, 'html.parser')\n",
    "\n",
    "    columns = soup.select(\n",
    "        'h2.pi-item.pi-header.pi-secondary-font.pi-item-spacing.pi-secondary-background > center')\n",
    "\n",
    "    if 'Informações biográficas' in [c.text for c in columns]:\n",
    "        return True\n",
    "    else:\n",
    "        return False\n",
    "\n",
    "\n",
    "def get_book_info(url):\n",
    "    response = requests.get(url)\n",
    "    soup = BeautifulSoup(response.text, 'html.parser')\n",
    "\n",
    "    # get all hrefs inside paragraphs <p> that have a <a> inside\n",
    "\n",
    "    links_personagens = []\n",
    "\n",
    "    # for p in tqdm(soup.select('p')):\n",
    "    for a in tqdm(soup.select('div.mw-parser-output > p > a')):\n",
    "        # print(a.text, a['href'])\n",
    "        # see if the link is a character\n",
    "        if have_banner(a['href']) or have_informacoes_bibliograficas(a['href']) and (url_personagem_base + a['href']) not in links_personagens:\n",
    "            # print('achou', a['href'])\n",
    "            links_personagens.append(a['href'])\n",
    "\n",
    "    return list(set([url_personagem_base + link for link in links_personagens]))\n"
   ]
  },
  {
   "cell_type": "code",
   "execution_count": null,
   "metadata": {},
   "outputs": [],
   "source": [
    "\n",
    "\n",
    "href_personagens = get_book_info(url_livro)\n"
   ]
  },
  {
   "cell_type": "code",
   "execution_count": null,
   "metadata": {},
   "outputs": [],
   "source": [
    "url_livro1 = 'https://harrypotter.fandom.com/pt-br/wiki/Harry_Potter_e_a_Pedra_Filosofal'\n",
    "url_livro2 = 'https://harrypotter.fandom.com/pt-br/wiki/Harry_Potter_e_a_C%C3%A2mara_Secreta'\n",
    "url_livro3 = 'https://harrypotter.fandom.com/pt-br/wiki/Harry_Potter_e_o_Prisioneiro_de_Azkaban'\n",
    "url_livro4 = 'https://harrypotter.fandom.com/pt-br/wiki/Harry_Potter_e_o_C%C3%A1lice_de_Fogo'\n",
    "url_livro5 = 'https://harrypotter.fandom.com/pt-br/wiki/Harry_Potter_e_a_Ordem_da_F%C3%AAnix'\n",
    "url_livro6 = 'https://harrypotter.fandom.com/pt-br/wiki/Harry_Potter_e_o_Enigma_do_Pr%C3%ADncipe'\n",
    "url_livro7 = 'https://harrypotter.fandom.com/pt-br/wiki/Harry_Potter_e_as_Rel%C3%ADquias_da_Morte'\n",
    "\n",
    "livros = [url_livro1, url_livro2, url_livro3,\n",
    "          url_livro4, url_livro5, url_livro6, url_livro7]\n",
    "\n",
    "href_personagens = []\n",
    "for livro in tqdm(livros):\n",
    "    href_personagens += get_book_info(livro)\n"
   ]
  },
  {
   "cell_type": "code",
   "execution_count": null,
   "metadata": {},
   "outputs": [],
   "source": [
    "with open('href_personagens.txt', 'w') as f:\n",
    "    for href in href_personagens:\n",
    "        f.write(href + '\\n')"
   ]
  },
  {
   "cell_type": "code",
   "execution_count": 17,
   "metadata": {},
   "outputs": [
    {
     "data": {
      "text/plain": [
       "['a', 'b', 'c', 'd', 'e', 'f']"
      ]
     },
     "execution_count": 17,
     "metadata": {},
     "output_type": "execute_result"
    }
   ],
   "source": [
    "['a', 'b', 'c'] + ['d', 'e', 'f']"
   ]
  },
  {
   "cell_type": "code",
   "execution_count": 13,
   "metadata": {},
   "outputs": [
    {
     "data": {
      "text/plain": [
       "92"
      ]
     },
     "execution_count": 13,
     "metadata": {},
     "output_type": "execute_result"
    }
   ],
   "source": [
    "len(href_personagens)\n"
   ]
  },
  {
   "cell_type": "code",
   "execution_count": 14,
   "metadata": {},
   "outputs": [
    {
     "data": {
      "text/plain": [
       "45"
      ]
     },
     "execution_count": 14,
     "metadata": {},
     "output_type": "execute_result"
    }
   ],
   "source": [
    "len(list(set(href_personagens)))\n"
   ]
  },
  {
   "cell_type": "code",
   "execution_count": 11,
   "metadata": {},
   "outputs": [],
   "source": [
    "with open('links_personagens.txt', 'w') as f:\n",
    "    f.write('\\n'.join(href_personagens))\n"
   ]
  },
  {
   "cell_type": "code",
   "execution_count": null,
   "metadata": {},
   "outputs": [],
   "source": [
    "for personagem in href_personagens:\n",
    "    print(get_character_info(personagem))\n",
    "    break\n"
   ]
  },
  {
   "cell_type": "code",
   "execution_count": 9,
   "metadata": {},
   "outputs": [
    {
     "data": {
      "text/plain": [
       "True"
      ]
     },
     "execution_count": 9,
     "metadata": {},
     "output_type": "execute_result"
    }
   ],
   "source": [
    "def have_informacoes_bibliograficas(href):\n",
    "    try:\n",
    "        response = requests.get(url_personagem_base + href)\n",
    "    except:\n",
    "        return False\n",
    "\n",
    "    soup = BeautifulSoup(response.text, 'html.parser')\n",
    "\n",
    "    columns = soup.select(\n",
    "        'h2.pi-item.pi-header.pi-secondary-font.pi-item-spacing.pi-secondary-background > center')\n",
    "\n",
    "    if 'Informações biográficas' in [c.text for c in columns]:\n",
    "        # if 'Nascimento' in [c.text for c in columns]:\n",
    "        return True\n",
    "    else:\n",
    "        return False\n",
    "\n",
    "\n",
    "have_informacoes_bibliograficas('/pt-br/wiki/Pet%C3%BAnia_Dursley')\n"
   ]
  },
  {
   "cell_type": "code",
   "execution_count": null,
   "metadata": {},
   "outputs": [],
   "source": []
  }
 ],
 "metadata": {
  "kernelspec": {
   "display_name": "de",
   "language": "python",
   "name": "python3"
  },
  "language_info": {
   "codemirror_mode": {
    "name": "ipython",
    "version": 3
   },
   "file_extension": ".py",
   "mimetype": "text/x-python",
   "name": "python",
   "nbconvert_exporter": "python",
   "pygments_lexer": "ipython3",
   "version": "3.10.9"
  },
  "orig_nbformat": 4,
  "vscode": {
   "interpreter": {
    "hash": "29e142fb93695274f703cb27f0e8e753f1cd9d8d69924a5f058f23dd5507b02d"
   }
  }
 },
 "nbformat": 4,
 "nbformat_minor": 2
}
